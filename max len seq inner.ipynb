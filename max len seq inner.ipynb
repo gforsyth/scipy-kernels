{
 "cells": [
  {
   "cell_type": "code",
   "execution_count": 1,
   "metadata": {},
   "outputs": [
    {
     "name": "stderr",
     "output_type": "stream",
     "text": [
      "WARNING: Disabling color, you really want to install colorlog.\n"
     ]
    }
   ],
   "source": [
    "%load_ext cython"
   ]
  },
  {
   "cell_type": "code",
   "execution_count": 2,
   "metadata": {},
   "outputs": [],
   "source": [
    "import pythran\n",
    "%load_ext pythran.magic"
   ]
  },
  {
   "cell_type": "code",
   "execution_count": 3,
   "metadata": {},
   "outputs": [],
   "source": [
    "import numpy as np"
   ]
  },
  {
   "cell_type": "markdown",
   "metadata": {},
   "source": [
    "# max len seq inner"
   ]
  },
  {
   "cell_type": "markdown",
   "metadata": {},
   "source": [
    "## cython version"
   ]
  },
  {
   "cell_type": "code",
   "execution_count": 4,
   "metadata": {},
   "outputs": [],
   "source": [
    "%%cython\n",
    "# Author: Eric Larson\n",
    "# 2014\n",
    "\n",
    "from __future__ import absolute_import\n",
    "\n",
    "import numpy as np\n",
    "cimport numpy as np\n",
    "cimport cython\n",
    "\n",
    "\n",
    "# Fast inner loop of max_len_seq.\n",
    "@cython.cdivision(True)  # faster modulo\n",
    "@cython.boundscheck(False)  # designed to stay within bounds\n",
    "@cython.wraparound(False)  # we don't use negative indexing\n",
    "def max_len_seq_inner_cython(Py_ssize_t[::1] taps,\n",
    "                       np.int8_t[::1] state,\n",
    "                       Py_ssize_t nbits, Py_ssize_t length,\n",
    "                       np.int8_t[::1] seq):\n",
    "    # Here we compute MLS using a shift register, indexed using a ring buffer\n",
    "    # technique (faster than using something like np.roll to shift)\n",
    "    cdef Py_ssize_t n_taps = taps.shape[0]\n",
    "    cdef Py_ssize_t idx = 0\n",
    "    cdef np.int8_t feedback\n",
    "    cdef Py_ssize_t i\n",
    "    for i in range(length):\n",
    "        feedback = state[idx]\n",
    "        seq[i] = feedback\n",
    "        for ti in range(n_taps):\n",
    "            feedback ^= state[(taps[ti] + idx) % nbits]\n",
    "        state[idx] = feedback\n",
    "        idx = (idx + 1) % nbits\n",
    "    # state must be rolled s.t. next run, when idx==0, it's in the right place\n",
    "    return np.roll(state, -idx, axis=0)\n"
   ]
  },
  {
   "cell_type": "markdown",
   "metadata": {},
   "source": [
    "## pythran version"
   ]
  },
  {
   "cell_type": "code",
   "execution_count": 5,
   "metadata": {},
   "outputs": [],
   "source": [
    "%%pythran\n",
    "import numpy as np\n",
    "\n",
    "#pythran export max_len_seq_inner_pythran(int64 [], int8[], int, int, int8[])\n",
    "def max_len_seq_inner_pythran(taps, state, nbits, length, seq):\n",
    "    # Here we compute MLS using a shift register, indexed using a ring buffer\n",
    "    # technique (faster than using something like np.roll to shift)\n",
    "    n_taps = taps.shape[0]\n",
    "    idx = 0\n",
    "    for i in range(length):\n",
    "        feedback = state[idx]\n",
    "        seq[i] = feedback\n",
    "        for tap in taps:\n",
    "            feedback ^= state[(tap + idx) % nbits]\n",
    "        state[idx] = feedback\n",
    "        idx = (idx + 1) % nbits\n",
    "    # state must be rolled s.t. next run, when idx==0, it's in the right place\n",
    "    return np.roll(state, -idx, axis=0)\n"
   ]
  },
  {
   "cell_type": "markdown",
   "metadata": {},
   "source": [
    "## benchmark"
   ]
  },
  {
   "cell_type": "code",
   "execution_count": 6,
   "metadata": {},
   "outputs": [],
   "source": [
    "n = 300\n",
    "args = np.arange(n, dtype=np.int64), np.arange(n, dtype=np.int8), n, n, np.arange(10, dtype=np.int8)"
   ]
  },
  {
   "cell_type": "code",
   "execution_count": 7,
   "metadata": {},
   "outputs": [
    {
     "name": "stdout",
     "output_type": "stream",
     "text": [
      "804 µs ± 32 µs per loop (mean ± std. dev. of 7 runs, 1000 loops each)\n"
     ]
    }
   ],
   "source": [
    "%timeit max_len_seq_inner_cython(*args)"
   ]
  },
  {
   "cell_type": "code",
   "execution_count": 8,
   "metadata": {},
   "outputs": [
    {
     "name": "stdout",
     "output_type": "stream",
     "text": [
      "794 µs ± 22.7 µs per loop (mean ± std. dev. of 7 runs, 1000 loops each)\n"
     ]
    }
   ],
   "source": [
    "%timeit max_len_seq_inner_pythran(*args)"
   ]
  }
 ],
 "metadata": {
  "kernelspec": {
   "display_name": "Python 3",
   "language": "python",
   "name": "python3"
  },
  "language_info": {
   "codemirror_mode": {
    "name": "ipython",
    "version": 3
   },
   "file_extension": ".py",
   "mimetype": "text/x-python",
   "name": "python",
   "nbconvert_exporter": "python",
   "pygments_lexer": "ipython3",
   "version": "3.5.4"
  }
 },
 "nbformat": 4,
 "nbformat_minor": 2
}
