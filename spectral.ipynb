{
 "cells": [
  {
   "cell_type": "code",
   "execution_count": 1,
   "metadata": {},
   "outputs": [
    {
     "name": "stderr",
     "output_type": "stream",
     "text": [
      "WARNING: Disabling color, you really want to install colorlog.\n"
     ]
    }
   ],
   "source": [
    "%load_ext cython"
   ]
  },
  {
   "cell_type": "code",
   "execution_count": 2,
   "metadata": {},
   "outputs": [],
   "source": [
    "import pythran\n",
    "%load_ext pythran.magic"
   ]
  },
  {
   "cell_type": "code",
   "execution_count": 3,
   "metadata": {},
   "outputs": [],
   "source": [
    "import numpy as np"
   ]
  },
  {
   "cell_type": "markdown",
   "metadata": {},
   "source": [
    "# spectral"
   ]
  },
  {
   "cell_type": "markdown",
   "metadata": {},
   "source": [
    "## Cython"
   ]
  },
  {
   "cell_type": "code",
   "execution_count": 4,
   "metadata": {},
   "outputs": [],
   "source": [
    "%%cython\n",
    "# Author: Pim Schellart\n",
    "# 2010 - 2011\n",
    "\n",
    "\"\"\"Tools for spectral analysis of unequally sampled signals.\"\"\"\n",
    "\n",
    "from __future__ import absolute_import\n",
    "\n",
    "import numpy as np\n",
    "cimport numpy as np\n",
    "cimport cython\n",
    "\n",
    "\n",
    "\n",
    "cdef extern from \"math.h\":\n",
    "    double cos(double)\n",
    "    double sin(double)\n",
    "    double atan2(double, double)\n",
    "\n",
    "@cython.boundscheck(False)\n",
    "def lombscargle_cython(np.ndarray[np.float64_t, ndim=1] x,\n",
    "                np.ndarray[np.float64_t, ndim=1] y,\n",
    "                np.ndarray[np.float64_t, ndim=1] freqs):\n",
    "    \"\"\"\n",
    "    _lombscargle(x, y, freqs)\n",
    "\n",
    "    Computes the Lomb-Scargle periodogram.\n",
    "    \n",
    "    Parameters\n",
    "    ----------\n",
    "    x : array_like\n",
    "        Sample times.\n",
    "    y : array_like\n",
    "        Measurement values (must be registered so the mean is zero).\n",
    "    freqs : array_like\n",
    "        Angular frequencies for output periodogram.\n",
    "\n",
    "    Returns\n",
    "    -------\n",
    "    pgram : array_like\n",
    "        Lomb-Scargle periodogram.\n",
    "\n",
    "    Raises\n",
    "    ------\n",
    "    ValueError\n",
    "        If the input arrays `x` and `y` do not have the same shape.\n",
    "\n",
    "    See also\n",
    "    --------\n",
    "    lombscargle\n",
    "\n",
    "    \"\"\"\n",
    "\n",
    "    # Check input sizes\n",
    "    if x.shape[0] != y.shape[0]:\n",
    "        raise ValueError(\"Input arrays do not have the same size.\")\n",
    "\n",
    "    # Create empty array for output periodogram\n",
    "    pgram = np.empty(freqs.shape[0], dtype=np.float64)\n",
    "\n",
    "    # Local variables\n",
    "    cdef Py_ssize_t i, j\n",
    "    cdef double c, s, xc, xs, cc, ss, cs\n",
    "    cdef double tau, c_tau, s_tau, c_tau2, s_tau2, cs_tau\n",
    "\n",
    "    for i in range(freqs.shape[0]):\n",
    "\n",
    "        xc = 0.\n",
    "        xs = 0.\n",
    "        cc = 0.\n",
    "        ss = 0.\n",
    "        cs = 0.\n",
    "\n",
    "        for j in range(x.shape[0]):\n",
    "\n",
    "            c = cos(freqs[i] * x[j])\n",
    "            s = sin(freqs[i] * x[j])\n",
    "            \n",
    "            xc += y[j] * c\n",
    "            xs += y[j] * s\n",
    "            cc += c * c\n",
    "            ss += s * s\n",
    "            cs += c * s\n",
    "\n",
    "        tau = atan2(2 * cs, cc - ss) / (2 * freqs[i])\n",
    "        c_tau = cos(freqs[i] * tau)\n",
    "        s_tau = sin(freqs[i] * tau)\n",
    "        c_tau2 = c_tau * c_tau\n",
    "        s_tau2 = s_tau * s_tau\n",
    "        cs_tau = 2 * c_tau * s_tau\n",
    "\n",
    "        pgram[i] = 0.5 * (((c_tau * xc + s_tau * xs)**2 / \\\n",
    "            (c_tau2 * cc + cs_tau * cs + s_tau2 * ss)) + \\\n",
    "            ((c_tau * xs - s_tau * xc)**2 / \\\n",
    "            (c_tau2 * ss - cs_tau * cs + s_tau2 * cc)))\n",
    "\n",
    "    return pgram\n",
    "\n"
   ]
  },
  {
   "cell_type": "markdown",
   "metadata": {},
   "source": [
    "## pythran"
   ]
  },
  {
   "cell_type": "code",
   "execution_count": 5,
   "metadata": {},
   "outputs": [],
   "source": [
    "%%pythran\n",
    "# runs twice as fast when -march=native -DUSE_BOOST_SIMD is on\n",
    "\n",
    "import numpy as np\n",
    "#pythran export lombscargle_pythran(float64[], float64[], float64[])\n",
    "\n",
    "\n",
    "def lombscargle_pythran(x, y, freqs):\n",
    "    \"\"\"\n",
    "    _lombscargle(x, y, freqs)\n",
    "\n",
    "    Computes the Lomb-Scargle periodogram.\n",
    "    \n",
    "    Parameters\n",
    "    ----------\n",
    "    x : array_like\n",
    "        Sample times.\n",
    "    y : array_like\n",
    "        Measurement values (must be registered so the mean is zero).\n",
    "    freqs : array_like\n",
    "        Angular frequencies for output periodogram.\n",
    "\n",
    "    Returns\n",
    "    -------\n",
    "    pgram : array_like\n",
    "        Lomb-Scargle periodogram.\n",
    "\n",
    "    Raises\n",
    "    ------\n",
    "    ValueError\n",
    "        If the input arrays `x` and `y` do not have the same shape.\n",
    "\n",
    "    See also\n",
    "    --------\n",
    "    lombscargle\n",
    "\n",
    "    \"\"\"\n",
    "\n",
    "    # Check input sizes\n",
    "    if x.shape != y.shape:\n",
    "        raise ValueError(\"Input arrays do not have the same size.\")\n",
    "\n",
    "    # Local variables\n",
    "    c = np.cos(freqs[:, None] * x)\n",
    "    s = np.sin(freqs[:, None] * x)\n",
    "    xc = np.sum(y * c, axis=1)\n",
    "    xs = np.sum(y * s, axis=1)\n",
    "    cc = np.sum(c ** 2, axis=1)\n",
    "    ss = np.sum(s * s, axis=1)\n",
    "    cs = np.sum(c * s, axis=1)\n",
    "    tau = np.arctan2(2 * cs, cc - ss) / (2 * freqs)\n",
    "    c_tau = np.cos(freqs * tau)\n",
    "    s_tau = np.sin(freqs * tau)\n",
    "    c_tau2 = c_tau * c_tau\n",
    "    s_tau2 = s_tau * s_tau\n",
    "    cs_tau = 2 * c_tau * s_tau\n",
    "\n",
    "    pgram = 0.5 * (((c_tau * xc + s_tau * xs)**2 / \\\n",
    "        (c_tau2 * cc + cs_tau * cs + s_tau2 * ss)) + \\\n",
    "        ((c_tau * xs - s_tau * xc)**2 / \\\n",
    "        (c_tau2 * ss - cs_tau * cs + s_tau2 * cc)))\n",
    "\n",
    "\n",
    "\n",
    "    return pgram"
   ]
  },
  {
   "cell_type": "markdown",
   "metadata": {},
   "source": [
    "## Benchmark"
   ]
  },
  {
   "cell_type": "code",
   "execution_count": 6,
   "metadata": {},
   "outputs": [],
   "source": [
    "n = 1000.\n",
    "args = np.arange(2., 2. + n), np.arange(1., 1. + n), np.arange(3., 3. + n)"
   ]
  },
  {
   "cell_type": "code",
   "execution_count": 7,
   "metadata": {},
   "outputs": [
    {
     "name": "stdout",
     "output_type": "stream",
     "text": [
      "37.3 ms ± 695 µs per loop (mean ± std. dev. of 7 runs, 10 loops each)\n"
     ]
    }
   ],
   "source": [
    "%timeit lombscargle_cython(*args)"
   ]
  },
  {
   "cell_type": "code",
   "execution_count": 8,
   "metadata": {},
   "outputs": [
    {
     "name": "stdout",
     "output_type": "stream",
     "text": [
      "43 ms ± 773 µs per loop (mean ± std. dev. of 7 runs, 10 loops each)\n"
     ]
    }
   ],
   "source": [
    "%timeit lombscargle_pythran(*args)"
   ]
  }
 ],
 "metadata": {
  "kernelspec": {
   "display_name": "Python 3",
   "language": "python",
   "name": "python3"
  },
  "language_info": {
   "codemirror_mode": {
    "name": "ipython",
    "version": 3
   },
   "file_extension": ".py",
   "mimetype": "text/x-python",
   "name": "python",
   "nbconvert_exporter": "python",
   "pygments_lexer": "ipython3",
   "version": "3.5.4"
  }
 },
 "nbformat": 4,
 "nbformat_minor": 2
}
