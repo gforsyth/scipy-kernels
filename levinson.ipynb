{
 "cells": [
  {
   "cell_type": "code",
   "execution_count": 1,
   "metadata": {},
   "outputs": [
    {
     "name": "stderr",
     "output_type": "stream",
     "text": [
      "WARNING: Disabling color, you really want to install colorlog.\n"
     ]
    }
   ],
   "source": [
    "%load_ext cython"
   ]
  },
  {
   "cell_type": "code",
   "execution_count": 2,
   "metadata": {},
   "outputs": [],
   "source": [
    "import pythran\n",
    "%load_ext pythran.magic"
   ]
  },
  {
   "cell_type": "code",
   "execution_count": 3,
   "metadata": {},
   "outputs": [],
   "source": [
    "import numpy as np"
   ]
  },
  {
   "cell_type": "markdown",
   "metadata": {},
   "source": [
    "# levinson"
   ]
  },
  {
   "cell_type": "markdown",
   "metadata": {},
   "source": [
    "## cython code"
   ]
  },
  {
   "cell_type": "code",
   "execution_count": 4,
   "metadata": {},
   "outputs": [],
   "source": [
    "%%cython\n",
    "# Author: Robert T. McGibbon, December 2014\n",
    "#\n",
    "# cython: boundscheck=False, wraparound=False, cdivision=True\n",
    "from __future__ import absolute_import\n",
    "\n",
    "from numpy import zeros, asarray, complex128, float64\n",
    "from numpy.linalg import LinAlgError\n",
    "from numpy cimport complex128_t, float64_t\n",
    "\n",
    "\n",
    "cdef fused dz:\n",
    "    float64_t\n",
    "    complex128_t\n",
    "\n",
    "\n",
    "def levinson_cython(dz[::1] a, dz[::1] b):\n",
    "    \"\"\"Solve a linear Toeplitz system using Levinson recursion.\n",
    "\n",
    "    Parameters\n",
    "    ----------\n",
    "    a : array, dtype=double or complex128, shape=(2n-1,)\n",
    "        The first column of the matrix in reverse order (without the diagonal)\n",
    "        followed by the first (see below)\n",
    "    b : array, dtype=double  or complex128, shape=(n,)\n",
    "        The right hand side vector. Both a and b must have the same type\n",
    "        (double or complex128).\n",
    "\n",
    "    Notes\n",
    "    -----\n",
    "    For example, the 5x5 toeplitz matrix below should be represented as\n",
    "    the linear array ``a`` on the right ::\n",
    "\n",
    "        [ a0    a1   a2  a3  a4 ]\n",
    "        [ a-1   a0   a1  a2  a3 ]\n",
    "        [ a-2  a-1   a0  a1  a2 ] -> [a-4  a-3  a-2  a-1  a0  a1  a2  a3  a4]\n",
    "        [ a-3  a-2  a-1  a0  a1 ]\n",
    "        [ a-4  a-3  a-2  a-1 a0 ]\n",
    "\n",
    "    Returns\n",
    "    -------\n",
    "    x : arrray, shape=(n,)\n",
    "        The solution vector\n",
    "    reflection_coeff : array, shape=(n+1,)\n",
    "        Toeplitz reflection coefficients. When a is symmetric Toeplitz and\n",
    "        ``b`` is ``a[n:]``, as in the solution of autoregressive systems,\n",
    "        then ``reflection_coeff`` also correspond to the partial\n",
    "        autocorrelation function.\n",
    "    \"\"\"\n",
    "    # Adapted from toeplitz.f90 by Alan Miller, accessed at\n",
    "    # http://jblevins.org/mirror/amiller/toeplitz.f90\n",
    "    # Released under a Public domain declaration.\n",
    "\n",
    "    if dz is float64_t:\n",
    "        dtype = float64\n",
    "    else:\n",
    "        dtype = complex128\n",
    "\n",
    "    cdef ssize_t n, m, j, nmj, k, m2\n",
    "    n = b.shape[0]\n",
    "    cdef dz x_num, g_num, h_num, x_den, g_den\n",
    "    cdef dz gj, gk, hj, hk, c1, c2\n",
    "    cdef dz[:] x = zeros(n, dtype=dtype)  # result\n",
    "    cdef dz[:] g = zeros(n, dtype=dtype)  # workspace\n",
    "    cdef dz[:] h = zeros(n, dtype=dtype)  # workspace\n",
    "    cdef dz[:] reflection_coeff = zeros(n+1, dtype=dtype)  # history\n",
    "    assert len(a) == (2*n) - 1\n",
    "\n",
    "    if a[n-1] == 0:\n",
    "        raise LinAlgError('Singular principal minor')\n",
    "\n",
    "    x[0] = b[0] / a[n-1]\n",
    "    reflection_coeff[0] = 1\n",
    "    reflection_coeff[1] = x[0]\n",
    "\n",
    "    if (n == 1):\n",
    "        return asarray(x), asarray(reflection_coeff)\n",
    "\n",
    "    g[0] = a[n-2] / a[n-1]\n",
    "    h[0] = a[n] / a[n-1]\n",
    "\n",
    "    for m in range(1, n):\n",
    "        # Compute numerator and denominator of x[m]\n",
    "        x_num = -b[m]\n",
    "        x_den = -a[n-1]\n",
    "        for j in range(m):\n",
    "            nmj = n + m - (j+1)\n",
    "            x_num = x_num + a[nmj] * x[j]\n",
    "            x_den = x_den + a[nmj] * g[m-j-1]\n",
    "        if x_den == 0:\n",
    "            raise LinAlgError('Singular principal minor')\n",
    "        x[m] = x_num / x_den\n",
    "        reflection_coeff[m+1] = x[m]\n",
    "\n",
    "        # Compute x\n",
    "        for j in range(m):\n",
    "            x[j] = x[j] - x[m] * g[m-j-1]\n",
    "        if m == n-1:\n",
    "            return asarray(x), asarray(reflection_coeff)\n",
    "\n",
    "        # Compute the numerator and denominator of g[m] and h[m]\n",
    "        g_num = -a[n-m-2]\n",
    "        h_num = -a[n+m]\n",
    "        g_den = -a[n-1]\n",
    "        for j in range(m):\n",
    "            g_num = g_num + a[n+j-m-1] * g[j]\n",
    "            h_num = h_num + a[n+m-j-1] * h[j]\n",
    "            g_den = g_den + a[n+j-m-1] * h[m-j-1]\n",
    "\n",
    "        if g_den == 0.0:\n",
    "            raise LinAlgError(\"Singular principal minor\")\n",
    "\n",
    "        # Compute g and h\n",
    "        g[m] = g_num / g_den\n",
    "        h[m] = h_num / x_den\n",
    "        k = m - 1\n",
    "        m2 = (m + 1) >> 1\n",
    "        c1 = g[m]\n",
    "        c2 = h[m]\n",
    "        for j in range(m2):\n",
    "            gj = g[j]\n",
    "            gk = g[k]\n",
    "            hj = h[j]\n",
    "            hk = h[k]\n",
    "            g[j] = gj - (c1 * hk)\n",
    "            g[k] = gk - (c1 * hj)\n",
    "            h[j] = hj - (c2 * gk)\n",
    "            h[k] = hk - (c2 * gj)\n",
    "            k -= 1\n"
   ]
  },
  {
   "cell_type": "markdown",
   "metadata": {},
   "source": [
    "## Pythran"
   ]
  },
  {
   "cell_type": "code",
   "execution_count": 5,
   "metadata": {},
   "outputs": [],
   "source": [
    "%%pythran\n",
    "from numpy import zeros, asarray, complex128, float64, zeros_like\n",
    "\n",
    "#pythran export levinson_pythran(float64[], float64[])\n",
    "#pythran export levinson_pythran(complex128[], complex128[])\n",
    "\n",
    "def levinson_pythran(a, b):\n",
    "    \"\"\"Solve a linear Toeplitz system using Levinson recursion.\n",
    "\n",
    "    Parameters\n",
    "    ----------\n",
    "    a : array, dtype=double or complex128, shape=(2n-1,)\n",
    "        The first column of the matrix in reverse order (without the diagonal)\n",
    "        followed by the first (see below)\n",
    "    b : array, dtype=double  or complex128, shape=(n,)\n",
    "        The right hand side vector. Both a and b must have the same type\n",
    "        (double or complex128).\n",
    "\n",
    "    Notes\n",
    "    -----\n",
    "    For example, the 5x5 toeplitz matrix below should be represented as\n",
    "    the linear array ``a`` on the right ::\n",
    "\n",
    "        [ a0    a1   a2  a3  a4 ]\n",
    "        [ a-1   a0   a1  a2  a3 ]\n",
    "        [ a-2  a-1   a0  a1  a2 ] -> [a-4  a-3  a-2  a-1  a0  a1  a2  a3  a4]\n",
    "        [ a-3  a-2  a-1  a0  a1 ]\n",
    "        [ a-4  a-3  a-2  a-1 a0 ]\n",
    "\n",
    "    Returns\n",
    "    -------\n",
    "    x : arrray, shape=(n,)\n",
    "        The solution vector\n",
    "    reflection_coeff : array, shape=(n+1,)\n",
    "        Toeplitz reflection coefficients. When a is symmetric Toeplitz and\n",
    "        ``b`` is ``a[n:]``, as in the solution of autoregressive systems,\n",
    "        then ``reflection_coeff`` also correspond to the partial\n",
    "        autocorrelation function.\n",
    "    \"\"\"\n",
    "    # Adapted from toeplitz.f90 by Alan Miller, accessed at\n",
    "    # http://jblevins.org/mirror/amiller/toeplitz.f90\n",
    "    # Released under a Public domain declaration.\n",
    "\n",
    "    n = b.shape[0]\n",
    "    x = zeros_like(b)  # result\n",
    "    g = zeros_like(b)  # workspace\n",
    "    h = zeros_like(b)  # workspace\n",
    "    reflection_coeff = zeros(n+1, dtype=b.dtype)  # history\n",
    "    assert len(a) == (2*n) - 1\n",
    "\n",
    "    if a[n-1] == 0:\n",
    "        raise ValueError('Singular principal minor')\n",
    "\n",
    "    x[0] = b[0] / a[n-1]\n",
    "    reflection_coeff[0] = 1\n",
    "    reflection_coeff[1] = x[0]\n",
    "\n",
    "    if (n == 1):\n",
    "        return asarray(x), asarray(reflection_coeff)\n",
    "\n",
    "    g[0] = a[n-2] / a[n-1]\n",
    "    h[0] = a[n] / a[n-1]\n",
    "\n",
    "    for m in range(1, n):\n",
    "        # Compute numerator and denominator of x[m]\n",
    "        x_num = -b[m]\n",
    "        x_den = -a[n-1]\n",
    "        for j in range(m):\n",
    "            nmj = n + m - (j+1)\n",
    "            x_num = x_num + a[nmj] * x[j]\n",
    "            x_den = x_den + a[nmj] * g[m-j-1]\n",
    "        if x_den == 0:\n",
    "            raise ValueError('Singular principal minor')\n",
    "        x[m] = x_num / x_den\n",
    "        reflection_coeff[m+1] = x[m]\n",
    "\n",
    "        # Compute x\n",
    "        for j in range(m):\n",
    "            x[j] = x[j] - x[m] * g[m-j-1]\n",
    "        if m == n-1:\n",
    "            return asarray(x), asarray(reflection_coeff)\n",
    "\n",
    "        # Compute the numerator and denominator of g[m] and h[m]\n",
    "        g_num = -a[n-m-2]\n",
    "        h_num = -a[n+m]\n",
    "        g_den = -a[n-1]\n",
    "        for j in range(m):\n",
    "            g_num = g_num + a[n+j-m-1] * g[j]\n",
    "            h_num = h_num + a[n+m-j-1] * h[j]\n",
    "            g_den = g_den + a[n+j-m-1] * h[m-j-1]\n",
    "\n",
    "        if g_den == 0.0:\n",
    "            raise ValueError(\"Singular principal minor\")\n",
    "\n",
    "        # Compute g and h\n",
    "        g[m] = g_num / g_den\n",
    "        h[m] = h_num / x_den\n",
    "        k = m - 1\n",
    "        m2 = (m + 1) >> 1\n",
    "        c1 = g[m]\n",
    "        c2 = h[m]\n",
    "        for j in range(m2):\n",
    "            gj = g[j]\n",
    "            gk = g[k]\n",
    "            hj = h[j]\n",
    "            hk = h[k]\n",
    "            g[j] = gj - (c1 * hk)\n",
    "            g[k] = gk - (c1 * hj)\n",
    "            h[j] = hj - (c2 * gk)\n",
    "            h[k] = hk - (c2 * gj)\n",
    "            k -= 1\n"
   ]
  },
  {
   "cell_type": "markdown",
   "metadata": {},
   "source": [
    "## benchmarks"
   ]
  },
  {
   "cell_type": "code",
   "execution_count": 6,
   "metadata": {},
   "outputs": [],
   "source": [
    "args0 = np.arange(1, 4., dtype=np.float64)*7, np.arange(-11., -9., dtype=np.float64)"
   ]
  },
  {
   "cell_type": "code",
   "execution_count": 7,
   "metadata": {},
   "outputs": [
    {
     "name": "stdout",
     "output_type": "stream",
     "text": [
      "10.9 µs ± 193 ns per loop (mean ± std. dev. of 7 runs, 100000 loops each)\n"
     ]
    }
   ],
   "source": [
    "%timeit levinson_cython(*args0)"
   ]
  },
  {
   "cell_type": "code",
   "execution_count": 8,
   "metadata": {},
   "outputs": [
    {
     "name": "stdout",
     "output_type": "stream",
     "text": [
      "844 ns ± 34.1 ns per loop (mean ± std. dev. of 7 runs, 1000000 loops each)\n"
     ]
    }
   ],
   "source": [
    "%timeit levinson_pythran(*args0)"
   ]
  },
  {
   "cell_type": "code",
   "execution_count": 9,
   "metadata": {},
   "outputs": [],
   "source": [
    "args1 = np.arange(1, 4., dtype=np.complex128)*7j, np.arange(-11., -9., dtype=np.complex128)"
   ]
  },
  {
   "cell_type": "code",
   "execution_count": 10,
   "metadata": {},
   "outputs": [
    {
     "name": "stdout",
     "output_type": "stream",
     "text": [
      "11 µs ± 327 ns per loop (mean ± std. dev. of 7 runs, 100000 loops each)\n"
     ]
    }
   ],
   "source": [
    "%timeit levinson_cython(*args1)"
   ]
  },
  {
   "cell_type": "code",
   "execution_count": 11,
   "metadata": {},
   "outputs": [
    {
     "name": "stdout",
     "output_type": "stream",
     "text": [
      "909 ns ± 45.5 ns per loop (mean ± std. dev. of 7 runs, 1000000 loops each)\n"
     ]
    }
   ],
   "source": [
    "%timeit levinson_pythran(*args1)"
   ]
  }
 ],
 "metadata": {
  "kernelspec": {
   "display_name": "Python 3",
   "language": "python",
   "name": "python3"
  },
  "language_info": {
   "codemirror_mode": {
    "name": "ipython",
    "version": 3
   },
   "file_extension": ".py",
   "mimetype": "text/x-python",
   "name": "python",
   "nbconvert_exporter": "python",
   "pygments_lexer": "ipython3",
   "version": "3.5.4"
  }
 },
 "nbformat": 4,
 "nbformat_minor": 2
}
